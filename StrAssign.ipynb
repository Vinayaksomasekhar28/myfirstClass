{
 "cells": [
  {
   "cell_type": "code",
   "execution_count": 1,
   "id": "571189f4",
   "metadata": {},
   "outputs": [
    {
     "name": "stdout",
     "output_type": "stream",
     "text": [
      "Input your word to reverseineuron\n",
      "norueni\n"
     ]
    }
   ],
   "source": [
    "user_input = input(\"Input your word to reverse\")\n",
    "print(user_input[::-1])"
   ]
  },
  {
   "cell_type": "code",
   "execution_count": 4,
   "id": "ab43c28a",
   "metadata": {},
   "outputs": [
    {
     "name": "stdout",
     "output_type": "stream",
     "text": [
      "*\n",
      "\n",
      "\n",
      "**\n",
      "\n",
      "\n",
      "***\n",
      "\n",
      "\n",
      "****\n",
      "\n",
      "\n",
      "*****\n",
      "\n",
      "\n",
      "****\n",
      "\n",
      "\n",
      "***\n",
      "\n",
      "\n",
      "**\n",
      "\n",
      "\n",
      "*\n",
      "\n",
      "\n",
      "\n",
      "\n",
      "\n"
     ]
    }
   ],
   "source": [
    "i=0\n",
    "while i<5:\n",
    "    i+=1\n",
    "    print(\"*\"*i)\n",
    "    \n",
    "    print(\"\\n\")\n",
    "while i>=1:\n",
    "    i-=1\n",
    "    print(\"*\"*i)\n",
    "    print(\"\\n\")"
   ]
  },
  {
   "cell_type": "code",
   "execution_count": null,
   "id": "bfb07068",
   "metadata": {},
   "outputs": [],
   "source": []
  }
 ],
 "metadata": {
  "kernelspec": {
   "display_name": "Python 3 (ipykernel)",
   "language": "python",
   "name": "python3"
  },
  "language_info": {
   "codemirror_mode": {
    "name": "ipython",
    "version": 3
   },
   "file_extension": ".py",
   "mimetype": "text/x-python",
   "name": "python",
   "nbconvert_exporter": "python",
   "pygments_lexer": "ipython3",
   "version": "3.9.7"
  }
 },
 "nbformat": 4,
 "nbformat_minor": 5
}
