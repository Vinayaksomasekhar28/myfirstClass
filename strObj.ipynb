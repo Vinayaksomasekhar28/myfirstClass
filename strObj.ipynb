{
 "cells": [
  {
   "cell_type": "code",
   "execution_count": 1,
   "id": "5f82e3a1",
   "metadata": {},
   "outputs": [
    {
     "name": "stdout",
     "output_type": "stream",
     "text": [
      "Input your word to reverseineuron\n",
      "norueni\n"
     ]
    }
   ],
   "source": [
    "user_input = input(\"Input your word to reverse\")\n",
    "print(user_input[::-1])"
   ]
  },
  {
   "cell_type": "code",
   "execution_count": 3,
   "id": "3d32cbc4",
   "metadata": {},
   "outputs": [
    {
     "name": "stdout",
     "output_type": "stream",
     "text": [
      "*\n",
      "\n",
      "\n",
      "**\n",
      "\n",
      "\n",
      "***\n",
      "\n",
      "\n",
      "****\n",
      "\n",
      "\n",
      "*****\n",
      "\n",
      "\n",
      "*****\n",
      "\n",
      "\n",
      "****\n",
      "\n",
      "\n",
      "***\n",
      "\n",
      "\n",
      "**\n",
      "\n",
      "\n",
      "*\n",
      "\n",
      "\n",
      "\n",
      "\n",
      "\n"
     ]
    }
   ],
   "source": [
    "i=1\n",
    "while i<=5:\n",
    "    print(\"*\"*i)\n",
    "    i+=1\n",
    "    print(\"\\n\")\n",
    "while i>=1:\n",
    "    i-=1\n",
    "    print(\"*\"*i)\n",
    "    print(\"\\n\")"
   ]
  },
  {
   "cell_type": "code",
   "execution_count": null,
   "id": "0d2aa28c",
   "metadata": {},
   "outputs": [],
   "source": []
  }
 ],
 "metadata": {
  "kernelspec": {
   "display_name": "Python 3 (ipykernel)",
   "language": "python",
   "name": "python3"
  },
  "language_info": {
   "codemirror_mode": {
    "name": "ipython",
    "version": 3
   },
   "file_extension": ".py",
   "mimetype": "text/x-python",
   "name": "python",
   "nbconvert_exporter": "python",
   "pygments_lexer": "ipython3",
   "version": "3.9.7"
  }
 },
 "nbformat": 4,
 "nbformat_minor": 5
}
